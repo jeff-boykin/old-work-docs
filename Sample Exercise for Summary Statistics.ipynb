{
 "cells": [
  {
   "cell_type": "markdown",
   "metadata": {},
   "source": [
    "# Hello everyone ! \n",
    "\n",
    "Welcome to your first exericse in data science. Many of you will be relatively new to data analytic statistical programming and modeling environments so we will use iPython notebook as an easy interactive interface into Python27. Specifically, we will be using numpy and it's related (and much cleaned up) dependency, Pandas. Together, with matplotlib, these modules makes Python into a powerful analysis tool. \n",
    "\n",
    "We will start our first journey into data science by covering the basics of summary statistics. "
   ]
  },
  {
   "cell_type": "code",
   "execution_count": 15,
   "metadata": {
    "collapsed": true
   },
   "outputs": [],
   "source": [
    "# For those of you who are familiar with other programming languages, import is similar to \"library\" in C++ or R.  In truth, \n",
    "# anything can be done using just the base data/variable types and methods for Python... assuming you have enough time to figure\n",
    "# out and develop the code yourself. However Time = $, and so you'll find knowing key libraries such as numpy, pandas, and scikit\n",
    "# -learn will greatly increase your ability to timely deliver penetrating analysis with minnimal pain. \n",
    "\n",
    "import sys\n",
    "import numpy as np  # the as reserved word is part of aliasing, mostly for aeshtetic purposes\n",
    "import pandas as pd\n",
    "import matplotlib.pyplot as plt"
   ]
  },
  {
   "cell_type": "markdown",
   "metadata": {},
   "source": [
    "# Sec 1.1 Loading up your data and basic exploration"
   ]
  },
  {
   "cell_type": "markdown",
   "metadata": {},
   "source": [
    "The first step of any data analysis is to load up your data. Since we're here to make you into an honest-to-goodness data scientist, and not an academic, it will be most instructive to utilize a real data set that's been used for actual data analysis by a company or government. \n",
    "\n",
    "For this first exercise, we'll be using the Cooperative Research (CORE) data. CORE was constructed through a grant from the  National Science Foundation (NSF), and is taken from firm filings with the Federal Registrar. It's been used in many different contexts, including assessing possibe monpolies by the Dept. of Justice Anti-Trust Division, to network theorists studying firm-based research networks in the United States in academia. \n",
    "\n",
    "We'll load up just the base version of the data from 2005.  It includes the year of filing for creating the joint research consortium to the registrar, the number of members in said consortium, as well as variables indicating the major sectors the consortium planns to operate in. \n",
    "\n",
    "Conveniently, this data set has each 'type' of variables present (please reference previous lecture on data types). For today's exercise we'll start our investigation with the numeric type, or the number of members in in the joint research consortium. "
   ]
  },
  {
   "cell_type": "code",
   "execution_count": 16,
   "metadata": {
    "collapsed": false,
    "scrolled": true
   },
   "outputs": [
    {
     "name": "stdout",
     "output_type": "stream",
     "text": [
      "<class 'pandas.core.frame.DataFrame'>\n"
     ]
    },
    {
     "data": {
      "text/html": [
       "<div>\n",
       "<table border=\"1\" class=\"dataframe\">\n",
       "  <thead>\n",
       "    <tr style=\"text-align: right;\">\n",
       "      <th></th>\n",
       "      <th>RECNO</th>\n",
       "      <th>YEAR</th>\n",
       "      <th>FEDREGDATE</th>\n",
       "      <th>NAME</th>\n",
       "      <th>TECH</th>\n",
       "      <th>NUMMEMB</th>\n",
       "      <th>FEDLAB</th>\n",
       "      <th>DOD</th>\n",
       "      <th>DOE</th>\n",
       "      <th>NASA</th>\n",
       "      <th>...</th>\n",
       "      <th>Unnamed: 65</th>\n",
       "      <th>Unnamed: 66</th>\n",
       "      <th>Unnamed: 67</th>\n",
       "      <th>Unnamed: 68</th>\n",
       "      <th>Unnamed: 69</th>\n",
       "      <th>Unnamed: 70</th>\n",
       "      <th>Unnamed: 71</th>\n",
       "      <th>Unnamed: 72</th>\n",
       "      <th>Unnamed: 73</th>\n",
       "      <th>Unnamed: 74</th>\n",
       "    </tr>\n",
       "  </thead>\n",
       "  <tbody>\n",
       "    <tr>\n",
       "      <th>0</th>\n",
       "      <td>NaN</td>\n",
       "      <td>NaN</td>\n",
       "      <td>NaN</td>\n",
       "      <td>NaN</td>\n",
       "      <td>NaN</td>\n",
       "      <td>NaN</td>\n",
       "      <td>NaN</td>\n",
       "      <td>NaN</td>\n",
       "      <td>NaN</td>\n",
       "      <td>NaN</td>\n",
       "      <td>...</td>\n",
       "      <td>NaN</td>\n",
       "      <td>NaN</td>\n",
       "      <td>NaN</td>\n",
       "      <td>NaN</td>\n",
       "      <td>NaN</td>\n",
       "      <td>NaN</td>\n",
       "      <td>NaN</td>\n",
       "      <td>NaN</td>\n",
       "      <td>NaN</td>\n",
       "      <td>NaN</td>\n",
       "    </tr>\n",
       "    <tr>\n",
       "      <th>1</th>\n",
       "      <td>1</td>\n",
       "      <td>1985</td>\n",
       "      <td>01/17/85</td>\n",
       "      <td>Software Productivity Consortium ('SPC')</td>\n",
       "      <td>sof</td>\n",
       "      <td>22</td>\n",
       "      <td>0</td>\n",
       "      <td>0</td>\n",
       "      <td>0</td>\n",
       "      <td>0</td>\n",
       "      <td>...</td>\n",
       "      <td>NaN</td>\n",
       "      <td>NaN</td>\n",
       "      <td>NaN</td>\n",
       "      <td>NaN</td>\n",
       "      <td>NaN</td>\n",
       "      <td>NaN</td>\n",
       "      <td>NaN</td>\n",
       "      <td>NaN</td>\n",
       "      <td>NaN</td>\n",
       "      <td>NaN</td>\n",
       "    </tr>\n",
       "    <tr>\n",
       "      <th>2</th>\n",
       "      <td>2</td>\n",
       "      <td>1985</td>\n",
       "      <td>01/17/85</td>\n",
       "      <td>Microelectronics and Computer Technology Corp....</td>\n",
       "      <td>sub</td>\n",
       "      <td>70</td>\n",
       "      <td>0</td>\n",
       "      <td>0</td>\n",
       "      <td>0</td>\n",
       "      <td>0</td>\n",
       "      <td>...</td>\n",
       "      <td>NaN</td>\n",
       "      <td>NaN</td>\n",
       "      <td>NaN</td>\n",
       "      <td>NaN</td>\n",
       "      <td>NaN</td>\n",
       "      <td>NaN</td>\n",
       "      <td>NaN</td>\n",
       "      <td>NaN</td>\n",
       "      <td>NaN</td>\n",
       "      <td>NaN</td>\n",
       "    </tr>\n",
       "    <tr>\n",
       "      <th>3</th>\n",
       "      <td>3</td>\n",
       "      <td>1985</td>\n",
       "      <td>01/17/85</td>\n",
       "      <td>Exxon Production Research Co.</td>\n",
       "      <td>enr</td>\n",
       "      <td>2</td>\n",
       "      <td>0</td>\n",
       "      <td>0</td>\n",
       "      <td>0</td>\n",
       "      <td>0</td>\n",
       "      <td>...</td>\n",
       "      <td>NaN</td>\n",
       "      <td>NaN</td>\n",
       "      <td>NaN</td>\n",
       "      <td>NaN</td>\n",
       "      <td>NaN</td>\n",
       "      <td>NaN</td>\n",
       "      <td>NaN</td>\n",
       "      <td>NaN</td>\n",
       "      <td>NaN</td>\n",
       "      <td>NaN</td>\n",
       "    </tr>\n",
       "    <tr>\n",
       "      <th>4</th>\n",
       "      <td>4</td>\n",
       "      <td>1985</td>\n",
       "      <td>01/24/85</td>\n",
       "      <td>Consortium for Advanced Manufacturing-Internat...</td>\n",
       "      <td>aut</td>\n",
       "      <td>89</td>\n",
       "      <td>1</td>\n",
       "      <td>0</td>\n",
       "      <td>1</td>\n",
       "      <td>0</td>\n",
       "      <td>...</td>\n",
       "      <td>NaN</td>\n",
       "      <td>NaN</td>\n",
       "      <td>NaN</td>\n",
       "      <td>NaN</td>\n",
       "      <td>NaN</td>\n",
       "      <td>NaN</td>\n",
       "      <td>NaN</td>\n",
       "      <td>NaN</td>\n",
       "      <td>NaN</td>\n",
       "      <td>NaN</td>\n",
       "    </tr>\n",
       "    <tr>\n",
       "      <th>5</th>\n",
       "      <td>5</td>\n",
       "      <td>1985</td>\n",
       "      <td>01/30/85</td>\n",
       "      <td>Bellcore</td>\n",
       "      <td>tel</td>\n",
       "      <td>9</td>\n",
       "      <td>0</td>\n",
       "      <td>0</td>\n",
       "      <td>0</td>\n",
       "      <td>0</td>\n",
       "      <td>...</td>\n",
       "      <td>NaN</td>\n",
       "      <td>NaN</td>\n",
       "      <td>NaN</td>\n",
       "      <td>NaN</td>\n",
       "      <td>NaN</td>\n",
       "      <td>NaN</td>\n",
       "      <td>NaN</td>\n",
       "      <td>NaN</td>\n",
       "      <td>NaN</td>\n",
       "      <td>NaN</td>\n",
       "    </tr>\n",
       "    <tr>\n",
       "      <th>6</th>\n",
       "      <td>6</td>\n",
       "      <td>1985</td>\n",
       "      <td>01/30/85</td>\n",
       "      <td>Semiconductor Research Corp. (SRC)</td>\n",
       "      <td>sub</td>\n",
       "      <td>40</td>\n",
       "      <td>1</td>\n",
       "      <td>1</td>\n",
       "      <td>1</td>\n",
       "      <td>0</td>\n",
       "      <td>...</td>\n",
       "      <td>NaN</td>\n",
       "      <td>NaN</td>\n",
       "      <td>NaN</td>\n",
       "      <td>NaN</td>\n",
       "      <td>NaN</td>\n",
       "      <td>NaN</td>\n",
       "      <td>NaN</td>\n",
       "      <td>NaN</td>\n",
       "      <td>NaN</td>\n",
       "      <td>NaN</td>\n",
       "    </tr>\n",
       "    <tr>\n",
       "      <th>7</th>\n",
       "      <td>7</td>\n",
       "      <td>1985</td>\n",
       "      <td>01/31/85</td>\n",
       "      <td>Bethlehem/US Steel</td>\n",
       "      <td>man</td>\n",
       "      <td>5</td>\n",
       "      <td>1</td>\n",
       "      <td>0</td>\n",
       "      <td>1</td>\n",
       "      <td>0</td>\n",
       "      <td>...</td>\n",
       "      <td>NaN</td>\n",
       "      <td>NaN</td>\n",
       "      <td>NaN</td>\n",
       "      <td>NaN</td>\n",
       "      <td>NaN</td>\n",
       "      <td>NaN</td>\n",
       "      <td>NaN</td>\n",
       "      <td>NaN</td>\n",
       "      <td>NaN</td>\n",
       "      <td>NaN</td>\n",
       "    </tr>\n",
       "    <tr>\n",
       "      <th>8</th>\n",
       "      <td>8</td>\n",
       "      <td>1985</td>\n",
       "      <td>02/01/85</td>\n",
       "      <td>Center for Advanced Television Studies</td>\n",
       "      <td>tel</td>\n",
       "      <td>9</td>\n",
       "      <td>0</td>\n",
       "      <td>0</td>\n",
       "      <td>0</td>\n",
       "      <td>0</td>\n",
       "      <td>...</td>\n",
       "      <td>NaN</td>\n",
       "      <td>NaN</td>\n",
       "      <td>NaN</td>\n",
       "      <td>NaN</td>\n",
       "      <td>NaN</td>\n",
       "      <td>NaN</td>\n",
       "      <td>NaN</td>\n",
       "      <td>NaN</td>\n",
       "      <td>NaN</td>\n",
       "      <td>NaN</td>\n",
       "    </tr>\n",
       "    <tr>\n",
       "      <th>9</th>\n",
       "      <td>10</td>\n",
       "      <td>1985</td>\n",
       "      <td>02/04/85</td>\n",
       "      <td>Medium Range Truck Transmission Cooperative Pr...</td>\n",
       "      <td>trn</td>\n",
       "      <td>3</td>\n",
       "      <td>0</td>\n",
       "      <td>0</td>\n",
       "      <td>0</td>\n",
       "      <td>0</td>\n",
       "      <td>...</td>\n",
       "      <td>NaN</td>\n",
       "      <td>NaN</td>\n",
       "      <td>NaN</td>\n",
       "      <td>NaN</td>\n",
       "      <td>NaN</td>\n",
       "      <td>NaN</td>\n",
       "      <td>NaN</td>\n",
       "      <td>NaN</td>\n",
       "      <td>NaN</td>\n",
       "      <td>NaN</td>\n",
       "    </tr>\n",
       "  </tbody>\n",
       "</table>\n",
       "<p>10 rows × 75 columns</p>\n",
       "</div>"
      ],
      "text/plain": [
       "  RECNO  YEAR FEDREGDATE                                               NAME  \\\n",
       "0   NaN   NaN        NaN                                                NaN   \n",
       "1    1   1985  01/17/85            Software Productivity Consortium ('SPC')   \n",
       "2    2   1985  01/17/85   Microelectronics and Computer Technology Corp....   \n",
       "3    3   1985  01/17/85                       Exxon Production Research Co.   \n",
       "4    4   1985  01/24/85   Consortium for Advanced Manufacturing-Internat...   \n",
       "5    5   1985  01/30/85                                            Bellcore   \n",
       "6    6   1985  01/30/85                  Semiconductor Research Corp. (SRC)   \n",
       "7    7   1985  01/31/85                                  Bethlehem/US Steel   \n",
       "8    8   1985  02/01/85              Center for Advanced Television Studies   \n",
       "9   10   1985  02/04/85   Medium Range Truck Transmission Cooperative Pr...   \n",
       "\n",
       "  TECH NUMMEMB FEDLAB  DOD  DOE NASA     ...     Unnamed: 65 Unnamed: 66  \\\n",
       "0  NaN     NaN    NaN  NaN  NaN  NaN     ...             NaN         NaN   \n",
       "1  sof     22      0    0    0    0      ...             NaN         NaN   \n",
       "2  sub     70      0    0    0    0      ...             NaN         NaN   \n",
       "3  enr      2      0    0    0    0      ...             NaN         NaN   \n",
       "4  aut     89      1    0    1    0      ...             NaN         NaN   \n",
       "5  tel      9      0    0    0    0      ...             NaN         NaN   \n",
       "6  sub     40      1    1    1    0      ...             NaN         NaN   \n",
       "7  man      5      1    0    1    0      ...             NaN         NaN   \n",
       "8  tel      9      0    0    0    0      ...             NaN         NaN   \n",
       "9  trn      3      0    0    0    0      ...             NaN         NaN   \n",
       "\n",
       "  Unnamed: 67 Unnamed: 68 Unnamed: 69 Unnamed: 70 Unnamed: 71 Unnamed: 72  \\\n",
       "0         NaN         NaN         NaN         NaN         NaN         NaN   \n",
       "1         NaN         NaN         NaN         NaN         NaN         NaN   \n",
       "2         NaN         NaN         NaN         NaN         NaN         NaN   \n",
       "3         NaN         NaN         NaN         NaN         NaN         NaN   \n",
       "4         NaN         NaN         NaN         NaN         NaN         NaN   \n",
       "5         NaN         NaN         NaN         NaN         NaN         NaN   \n",
       "6         NaN         NaN         NaN         NaN         NaN         NaN   \n",
       "7         NaN         NaN         NaN         NaN         NaN         NaN   \n",
       "8         NaN         NaN         NaN         NaN         NaN         NaN   \n",
       "9         NaN         NaN         NaN         NaN         NaN         NaN   \n",
       "\n",
       "  Unnamed: 73 Unnamed: 74  \n",
       "0         NaN         NaN  \n",
       "1         NaN         NaN  \n",
       "2         NaN         NaN  \n",
       "3         NaN         NaN  \n",
       "4         NaN         NaN  \n",
       "5         NaN         NaN  \n",
       "6         NaN         NaN  \n",
       "7         NaN         NaN  \n",
       "8         NaN         NaN  \n",
       "9         NaN         NaN  \n",
       "\n",
       "[10 rows x 75 columns]"
      ]
     },
     "execution_count": 16,
     "metadata": {},
     "output_type": "execute_result"
    }
   ],
   "source": [
    "CORE_dat = pd.read_csv('C:/Users/Amadeus/Desktop/CORE Data/2006 CORE database.csv')\n",
    "print(type(CORE_dat))\n",
    "CORE_dat.head(10)"
   ]
  },
  {
   "cell_type": "markdown",
   "metadata": {},
   "source": [
    "Notice that the data has a few 'NaN' (namely the first row and a bunch on the right). NaN stands for Not-a-Number, and can be the bain of your existence when numerous. Often, if you pass a column of data with NaN values present to a numerical procedure or algorithm, you will get a traceback error. Some methods have explicit 'controls' that automatically ignores NaNs, otherwise, you will have to remove them yourself. \n",
    "\n",
    "In general, removing NaNs, NAs, or missing value are not a trivial matter. In particular, we could break down missing data into 3 broad cases: \n",
    "\n",
    "1. Data missing completely at random\n",
    "2. Data missing at random\n",
    "3. Data missing not at random \n",
    "\n",
    "As we start to build models, and engage in preprocessing, we will revisit this topic and go into depth on how to deal with each case. \n",
    "\n",
    "It is possible to deal with the missing data in a wide spectrum of ways, from simply replacing values with 0, or the average, if it's a numeric column; to deploying procedures like K-Nearest Neighbors to impute missing values. For now, we'll assume data is missing completely at random, and thus remove the NaNs by dropping them from the column of interest. "
   ]
  },
  {
   "cell_type": "code",
   "execution_count": 66,
   "metadata": {
    "collapsed": false
   },
   "outputs": [
    {
     "data": {
      "text/plain": [
       "dtype('O')"
      ]
     },
     "execution_count": 66,
     "metadata": {},
     "output_type": "execute_result"
    }
   ],
   "source": [
    "# There are several ways to remove NaNs. Because we used read_csv to read in our csv file into our Python environment, our data \n",
    "# is housed in a Pandas Data Frame. For those of you familiar with R, Panda's data frame operates very much like the R data frame\n",
    "# in that it allows for mixed type data to enter into one object, the data frame. \n",
    "\n",
    "# A further benefit of being in a Panda's data frame is that we can call Pandas data frame methods by invoking the '.' operator. \n",
    "# It just so happens there is a simple method to remove NAs. \n",
    "\n",
    "CORE_dat1 = CORE_dat.dropna(how = 'all')\n",
    "\n",
    "# Since we're goign to deal specifically with summary statistics on numerical data , let's isolate this one column for further \n",
    "# analysis. Note, instead of directly mutating, changing my data frame, each alteration is it's own copy. Not highly recommended\n",
    "# if you have a lot of data as each copy will take up space as cache in memory or drive space, but an effective as we start out, \n",
    "# so we can easily trace back to a previous 'version' of our data if we make mistakes in the future. \n",
    "\n",
    "Nummemb = CORE_dat1['NUMMEMB']\n",
    "\n",
    "Nummemb.dtype"
   ]
  },
  {
   "cell_type": "markdown",
   "metadata": {},
   "source": [
    "Uh oh, this is a problem. Notice I typed 'Nummemb.dtype' into our code prompt, and it outputted 'dtype('0')'. However, Nummemb should be numeric, and without Python recognizing this data as numeric, we will not be able to do numeric operation on the data. Have no fear! Luckily, the Pandas environment has a clear and easy solution to this dilemma via the function 'to_numeric'. "
   ]
  },
  {
   "cell_type": "code",
   "execution_count": 69,
   "metadata": {
    "collapsed": false
   },
   "outputs": [
    {
     "data": {
      "text/plain": [
       "dtype('float64')"
      ]
     },
     "execution_count": 69,
     "metadata": {},
     "output_type": "execute_result"
    }
   ],
   "source": [
    "#Note - we call all pandas function by prefacing the function withi a 'pd.' Computer Scientists have chosen this convention to \n",
    "# avoid 'collisions in namespaces', but since we're data scientists, we can safetly ignore all that mumbo jumbo and be blissfully\n",
    "# unawares!\n",
    "\n",
    "Nummemb_Numeric = pd.to_numeric(Nummemb, errors='coerce')\n",
    "Nummemb_Numeric.dtype"
   ]
  },
  {
   "cell_type": "markdown",
   "metadata": {},
   "source": [
    "Something to think about: Interesting, why did Python coerce the above numeric into a float and not an integer? Does it matter? \n",
    "\n",
    "Finally, we're now ready to do some summary statistics on our numeric data! "
   ]
  },
  {
   "cell_type": "markdown",
   "metadata": {},
   "source": [
    "# Section 1.2 - Summary Statistics "
   ]
  },
  {
   "cell_type": "code",
   "execution_count": 70,
   "metadata": {
    "collapsed": false
   },
   "outputs": [
    {
     "data": {
      "text/html": [
       "<img src=\"http://media.buzzle.com/media/images-en/gallery/quotes/funny/450-chinese-proverb-work.jpg\"/>"
      ],
      "text/plain": [
       "<IPython.core.display.Image object>"
      ]
     },
     "execution_count": 70,
     "metadata": {},
     "output_type": "execute_result"
    }
   ],
   "source": [
    "from IPython.display import Image\n",
    "Image(url='http://media.buzzle.com/media/images-en/gallery/quotes/funny/450-chinese-proverb-work.jpg')\n"
   ]
  },
  {
   "cell_type": "markdown",
   "metadata": {},
   "source": [
    "\"The Analysis Script of a thousand lines starts with the summary statistics\" - Chris The Data Scientist (circa. 2015)\n",
    "\n",
    "I'm not sure if the above version of the ancient Lao Tzu wisdom is any more or less profound, but it is just as accurate. As you grow in your data science career, you will deploy all kinds of crazy sounding algorithms and probably have to cycle through thousands of computations. Yet, it all has to start with getting a basic grasp of your data, and no better way to get a good grasp of your data by calculating some \"population parameters\" (We'll refer to them as PPs from here-on-in). \n",
    "\n",
    "So what are PPs? Data Science is not magic, although it may seem like it to the laymen. When a data scientist (or her more serious, less fun, academic counterpart the statistcian) aserts some far-reaching conclusion about something, they are engaging in something called 'inference'. \n",
    "\n",
    "Now there are several types of inferences (Don't worry, we're only going to talk about 1), and the most important type you will have to master is statistical inference. \n",
    "\n",
    "What is that you may ask? Essentially, it's making inferences from limited information. More precisely, it's infering things about your \"population parameters\" from sample statistics. \n",
    "\n",
    "Now, at some point, back in the days of yore (circa. the 1800s), some French mathematician discovered all kinds of formal theories about chance, and how to understand chance events. Since this frenchmen was a mathematician however, instead of understanding chance through rhetoric like a philosopher, or experimentation like a scientist, he decided to build a abstract model.\n",
    "\n",
    "Since we're not mathematicians, we won't go too much into detail about these models (yet). All you need to know is that this frenchmen's model had a few ingredients. One was the probability distribution, and one of the other components were the PPs. This frenchmen also made his theory into a sort of game, with the goal being to \"infer\" as much as possible about the \"true\" population and it's parameters through observing the samples. \n",
    "\n",
    "What are intelligent ways we can observe samples? Let's find out below."
   ]
  },
  {
   "cell_type": "markdown",
   "metadata": {},
   "source": [
    "## 1.2.1 - Mode"
   ]
  },
  {
   "cell_type": "markdown",
   "metadata": {},
   "source": [
    "What is the mode? Simply put, it's the element in your set that is most frequent in the set. So if we had a bag with 3 yellow balls, ,2 white balls, and 1 blue ball, the elemnts labeled \"yellow\" would be the mode. \n",
    "\n",
    "In our context, it's the value that most often appears in our Pandas numeric data column. Got it? Good. Code it up. \n"
   ]
  },
  {
   "cell_type": "code",
   "execution_count": 71,
   "metadata": {
    "collapsed": false
   },
   "outputs": [],
   "source": [
    "#Mode of a list, or series etc. \n",
    "# I'll provide some starter code and you complete it \n",
    "def my_mode(dat_column):\n",
    "    if len(dat_column) == 0:\n",
    "        return None\n",
    "    max_curr = 0\n",
    "    for num in dat_column:\n",
    "        #Your code here\n",
    "        pass\n",
    "    return (max_curr)    \n",
    "\n",
    "#Hint - we want to "
   ]
  },
  {
   "cell_type": "markdown",
   "metadata": {},
   "source": [
    "## 1.2.2 - Median "
   ]
  },
  {
   "cell_type": "markdown",
   "metadata": {},
   "source": [
    "Ok, now we can move on to something slightly more interesting, Median. The median is the element in the \"exact middle\" of the data column if we were to order all values from lowest to highest. But wait... what if there were even number of elements in our data column? You got me! Then we cheat and add the 2 values in the middle and divide by 2. \n",
    "\n",
    "This will be the first 'measure of centrality' we encounter. It's cousin, the mean, is more often use, but median has it's perks as well, including being 'more robust to changes in the data set. What kind of changes? Remember that issue of missing values that we mentioned above? How you impute missing values can greatly impact your mean. However, whatever those impacts are, they are less likely to impact the median as much. Therefore, median is seen as a more 'stable' sample parameter. \n",
    "\n",
    "Got it? Good. Code it. "
   ]
  },
  {
   "cell_type": "code",
   "execution_count": 73,
   "metadata": {
    "collapsed": false
   },
   "outputs": [],
   "source": [
    "def my_median(dat_column):\n",
    "    dat_column_sort = []\n",
    "    #Some code here probably\n",
    "    if len(lst) < 1:\n",
    "            return None\n",
    "    if len(dat_column_sort)%2 == 1:\n",
    "        pass #Your code here\n",
    "    else:\n",
    "        pass #Your code here"
   ]
  },
  {
   "cell_type": "markdown",
   "metadata": {},
   "source": [
    "## 1.2.3 - Mean"
   ]
  },
  {
   "cell_type": "raw",
   "metadata": {},
   "source": [
    "Great. Now we're going to go onto the big kahunna of PPs, the mean. Although, this one has many names, the average, the expected value, the first moment, etc. Even if you haven't used it that often you probably know what it is, the average is just adding all the values in our data column together and dividing by the number of elements in the data column. \n",
    "\n",
    "Easy right? Code it up! "
   ]
  },
  {
   "cell_type": "code",
   "execution_count": 78,
   "metadata": {
    "collapsed": false
   },
   "outputs": [],
   "source": [
    "def my_mean(dat_column):\n",
    "    the_average = 0\n",
    "    sum_of_column = 0\n",
    "    length_of_column = len(dat_column)\n",
    "    for num in dat_column:\n",
    "        #Your code here \n",
    "        pass\n",
    "    return None # Change None to your value after you write your code"
   ]
  },
  {
   "cell_type": "markdown",
   "metadata": {},
   "source": [
    "## 1.2.4 - Max/Min"
   ]
  },
  {
   "cell_type": "markdown",
   "metadata": {},
   "source": [
    "We saved the easiest to describe PP for last and we'll combine both parameters into one function. This will be slightly trickier than the above, as you'll have to return a list that contains both max and min. \n",
    "\n",
    "What is the max? It's just the maximum value of your data column. Likewise, the min is the minnimum value of your data column. Too simple? Prove it. Code it up. "
   ]
  },
  {
   "cell_type": "code",
   "execution_count": 79,
   "metadata": {
    "collapsed": true
   },
   "outputs": [],
   "source": [
    "# We'll let you cheat on this one, you can invoke Python's sort method to make this easier\n",
    "\n",
    "def my_max_and_min(dat_column):\n",
    "    sorted_column = []\n",
    "    min = 0; max = 0;\n",
    "    two_tuple_list = []\n",
    "    pass # Write code here\n",
    "    return None # Change this to return two_tuple_list with your max and min"
   ]
  },
  {
   "cell_type": "code",
   "execution_count": null,
   "metadata": {
    "collapsed": true
   },
   "outputs": [],
   "source": []
  },
  {
   "cell_type": "markdown",
   "metadata": {},
   "source": [
    "# Sec 1.3 - Computing Effeciency (or why Elaine is right, and computing PPs with the right pipes really matters for data scientist)"
   ]
  },
  {
   "cell_type": "code",
   "execution_count": 4,
   "metadata": {
    "collapsed": false
   },
   "outputs": [
    {
     "data": {
      "text/html": [
       "<img src=\"http://i.imgur.com/dgCehHE.jpg\"/>"
      ],
      "text/plain": [
       "<IPython.core.display.Image object>"
      ]
     },
     "execution_count": 4,
     "metadata": {},
     "output_type": "execute_result"
    }
   ],
   "source": [
    "from IPython.display import Image\n",
    "Image(url='http://i.imgur.com/dgCehHE.jpg')"
   ]
  },
  {
   "cell_type": "markdown",
   "metadata": {},
   "source": [
    "Got some coding done. Feeling good? Great! So now you can write methods that can compute the standard 4 PPs for your sample of data. So whenever you have a problem, you'll be confident enough to just write up your own method and execute right? Well... not exactly. \n",
    "\n",
    "Although the methods you wrote above were accurate, and got the job done. As data scientists, we'll eventually deal with REALLY large data, and work with REALLY complicated algorithms and procedures. When all these complexities get thrown in our way, the effeciency of the algorithm/methods will start to matter. Later on in our journey, we'll deal with something called run-time and Big Oh (not the anime character) for algorithmetic complexity. \n",
    "\n",
    "In general, we want to use \"effecient\" code pipes to calculate our PPs (and any other computation). Therefore, we'll want to use pre-built methods as much as possible IF we know those methods were well coded. What is well coded/designed for our purposes? We can assume that most of Pandas, Numpy, and any other major library falls under that category for now. How are these pipes more effeceint? In many cases the pipes were probably written partially in C++ (remember having to install Cython in the first day? Cython = C++ & Python). In other cases, the procedures were probably written \"more\" cleverly than we hacked out above. \n",
    "\n",
    "Don't fret however, with enough practice, you too will be able to write extremely effecient code. In the mean time, check out the below Pandas methods for the PPs. "
   ]
  },
  {
   "cell_type": "code",
   "execution_count": 80,
   "metadata": {
    "collapsed": false
   },
   "outputs": [
    {
     "data": {
      "text/plain": [
       "0    2\n",
       "dtype: float64"
      ]
     },
     "execution_count": 80,
     "metadata": {},
     "output_type": "execute_result"
    }
   ],
   "source": [
    "Nummemb_Numeric.mode()"
   ]
  },
  {
   "cell_type": "code",
   "execution_count": 81,
   "metadata": {
    "collapsed": false
   },
   "outputs": [
    {
     "data": {
      "text/plain": [
       "5.0"
      ]
     },
     "execution_count": 81,
     "metadata": {},
     "output_type": "execute_result"
    }
   ],
   "source": [
    "Nummemb_Numeric.median()"
   ]
  },
  {
   "cell_type": "code",
   "execution_count": 82,
   "metadata": {
    "collapsed": false
   },
   "outputs": [
    {
     "data": {
      "text/plain": [
       "539.0"
      ]
     },
     "execution_count": 82,
     "metadata": {},
     "output_type": "execute_result"
    }
   ],
   "source": [
    "Nummemb_Numeric.max()"
   ]
  },
  {
   "cell_type": "code",
   "execution_count": 83,
   "metadata": {
    "collapsed": false
   },
   "outputs": [
    {
     "data": {
      "text/plain": [
       "1.0"
      ]
     },
     "execution_count": 83,
     "metadata": {},
     "output_type": "execute_result"
    }
   ],
   "source": [
    "Nummemb_Numeric.min()"
   ]
  },
  {
   "cell_type": "code",
   "execution_count": 84,
   "metadata": {
    "collapsed": false
   },
   "outputs": [
    {
     "data": {
      "text/plain": [
       "13.237006237006238"
      ]
     },
     "execution_count": 84,
     "metadata": {},
     "output_type": "execute_result"
    }
   ],
   "source": [
    "Nummemb_Numeric.mean()"
   ]
  },
  {
   "cell_type": "markdown",
   "metadata": {},
   "source": [
    "Want to compare the run-time of Pandas methods with yours? try the below:"
   ]
  },
  {
   "cell_type": "code",
   "execution_count": 85,
   "metadata": {
    "collapsed": true
   },
   "outputs": [],
   "source": [
    "import timeit\n",
    "start = timeit.default_timer()\n",
    "# put either your function or the pandas methods in here and you can see how long it takes the computer to calculate. \n",
    "stop = timeit.default_timer()"
   ]
  },
  {
   "cell_type": "markdown",
   "metadata": {},
   "source": [
    "# For next time"
   ]
  },
  {
   "cell_type": "markdown",
   "metadata": {},
   "source": [
    "Please make sure you understand the 4 PPs, and how they can be used to describe a sample. We will discuss variance and standard deviation next week, as well as begin more complicated topics of statistical inference, including convergence of distributions in the more theoretical leg, and hypothesis testing in the more practical one. "
   ]
  },
  {
   "cell_type": "code",
   "execution_count": null,
   "metadata": {
    "collapsed": true
   },
   "outputs": [],
   "source": []
  }
 ],
 "metadata": {
  "kernelspec": {
   "display_name": "Python 2",
   "language": "python",
   "name": "python2"
  },
  "language_info": {
   "codemirror_mode": {
    "name": "ipython",
    "version": 2
   },
   "file_extension": ".py",
   "mimetype": "text/x-python",
   "name": "python",
   "nbconvert_exporter": "python",
   "pygments_lexer": "ipython2",
   "version": "2.7.10"
  }
 },
 "nbformat": 4,
 "nbformat_minor": 0
}
